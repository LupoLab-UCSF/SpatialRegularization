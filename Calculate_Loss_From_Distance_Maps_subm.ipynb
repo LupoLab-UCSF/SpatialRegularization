{
 "cells": [
  {
   "cell_type": "code",
   "execution_count": 1,
   "id": "c598ee41",
   "metadata": {},
   "outputs": [],
   "source": [
    "import numpy as np\n",
    "import nibabel as nib\n",
    "import tensorflow as tf\n",
    "import matplotlib.pyplot as plt\n",
    "import scipy\n",
    "from scipy import ndimage"
   ]
  },
  {
   "cell_type": "code",
   "execution_count": 2,
   "id": "966afccf",
   "metadata": {},
   "outputs": [],
   "source": [
    "def nifti_loader(filename):\n",
    "    x = nib.load(filename)\n",
    "    img = np.asanyarray(x.dataobj)    \n",
    "    return img"
   ]
  },
  {
   "cell_type": "code",
   "execution_count": 3,
   "id": "2c0b0f94",
   "metadata": {},
   "outputs": [],
   "source": [
    "def smoothedDice(gt, pred):\n",
    "    top_smooth = 0\n",
    "    smooth = 1e-5\n",
    "    intersection = np.sum(gt * pred)\n",
    "    denominator = np.sum((gt + pred))\n",
    "    f = (2.0 * intersection + top_smooth) / (denominator + smooth)\n",
    "    return f"
   ]
  },
  {
   "cell_type": "code",
   "execution_count": 4,
   "id": "a46afed6",
   "metadata": {},
   "outputs": [],
   "source": [
    "def generate_edge_distance_map_static(xn):\n",
    "    '''\n",
    "    you can generate edge map from a sample t2 lesion\n",
    "    '''\n",
    "    #calculate the euclidian distance transform\n",
    "    edge = ndimage.distance_transform_edt(xn>0)\n",
    "    \n",
    "    #normalize\n",
    "    edge /= np.max((edge))\n",
    "    \n",
    "    #invert\n",
    "    edge =abs(1-edge)\n",
    "    \n",
    "    #zero outside of lesion\n",
    "    edge = edge*xn\n",
    "    \n",
    "    #normalize\n",
    "    edge /= np.max((edge))\n",
    "    \n",
    "    #add 1 to mitigate vanishing gradients\n",
    "    edge = edge+1\n",
    "    \n",
    "    return edge"
   ]
  },
  {
   "cell_type": "code",
   "execution_count": 5,
   "id": "bf38ee03",
   "metadata": {},
   "outputs": [],
   "source": [
    "def spatial_regularization_loss(dist_map, pred):\n",
    "    top_smooth = 0\n",
    "    smooth = 5e-5\n",
    "    reduce_axis = [1,2,3]\n",
    "    #binarize distance map for calculating Dice\n",
    "    gt = tf.cast((dist_map > 1), tf.float32)\n",
    "    \n",
    "    #calculate Dice loss\n",
    "    y_true_o = tf.reduce_sum(gt, axis=reduce_axis)\n",
    "    y_pred_o = tf.reduce_sum(pred, axis=reduce_axis)\n",
    "    intersection = tf.reduce_sum(gt * pred, axis=reduce_axis)\n",
    "#     print(intersection)\n",
    "    denominator = y_true_o + y_pred_o\n",
    "    dice = (2.0 * intersection + top_smooth) / (denominator + smooth)\n",
    "    dice = tf.reduce_mean(dice)  # final reduce_mean across batches and channels\n",
    "    \n",
    "    #calculate binary cross entropy loss\n",
    "    positive_block = tf.multiply( tf.cast(gt, tf.float32 ), tf.math.log( pred ))\n",
    "    \n",
    "    negative_block = tf.multiply( tf.subtract( 1.0, tf.cast(gt, tf.float32 ) ),tf.math.log( tf.add(tf.subtract( 1.0 , pred ),1e-9)))\n",
    "    ce = -tf.add( positive_block, negative_block )\n",
    "    #weight cross entropy by the distance maps\n",
    "    ce = tf.multiply(dist_map,ce)\n",
    "    ce = tf.reduce_sum(ce)/tf.reduce_prod(tf.cast(ce.shape[1:],tf.float32))\n",
    "    #combine losses\\\n",
    "    print('Dice component:')\n",
    "    print(dice)\n",
    "    print('Spatially Weighted CE Component:')\n",
    "    print(ce)\n",
    "    sr_loss = tf.add((1-dice),(.1*ce))\n",
    "    print('Total Loss:')\n",
    "    return sr_loss"
   ]
  },
  {
   "cell_type": "code",
   "execution_count": 6,
   "id": "a4494c4d",
   "metadata": {},
   "outputs": [],
   "source": [
    "gt = nifti_loader('/bogus/path/patient_id_edge_map.nii.gz')\n",
    "gt = np.array(gt,np.float32)"
   ]
  },
  {
   "cell_type": "code",
   "execution_count": 7,
   "id": "f593f672",
   "metadata": {},
   "outputs": [],
   "source": [
    "import scipy\n",
    "pred = scipy.ndimage.binary_erosion(gt>1)\n",
    "for i in range(2):\n",
    "    pred = scipy.ndimage.binary_erosion(pred)\n",
    "for i in range(4):\n",
    "    pred = scipy.ndimage.binary_dilation(pred)\n",
    "pred = np.array(pred,np.float32)"
   ]
  },
  {
   "cell_type": "code",
   "execution_count": 8,
   "id": "59b5204c",
   "metadata": {},
   "outputs": [
    {
     "data": {
      "text/plain": [
       "<matplotlib.image.AxesImage at 0x7efb77991400>"
      ]
     },
     "execution_count": 8,
     "metadata": {},
     "output_type": "execute_result"
    },
    {
     "data": {
      "image/png": "[encoded data removed]",
      "text/plain": [
       "<Figure size 640x480 with 2 Axes>"
      ]
     },
     "metadata": {},
     "output_type": "display_data"
    }
   ],
   "source": [
    "plt.subplot(121)\n",
    "plt.imshow(gt[:,:,95])\n",
    "plt.axis('off')\n",
    "plt.title('distance based weighting map')\n",
    "plt.subplot(122)\n",
    "plt.title('pseudo prediction')\n",
    "plt.axis('off')\n",
    "plt.imshow(pred[:,:,95]>0)"
   ]
  },
  {
   "cell_type": "code",
   "execution_count": 9,
   "id": "e4974a05",
   "metadata": {},
   "outputs": [
    {
     "data": {
      "text/plain": [
       "0.8277974088175516"
      ]
     },
     "execution_count": 9,
     "metadata": {},
     "output_type": "execute_result"
    }
   ],
   "source": [
    "smoothedDice(gt>1,pred)"
   ]
  },
  {
   "cell_type": "code",
   "execution_count": 2,
   "id": "74adca9c",
   "metadata": {},
   "outputs": [],
   "source": [
    "#expand batch dimension for both tensors\n",
    "dm_tensor = tf.Variable(np.expand_dims(gt,0))\n",
    "#set pseudo prediction to probabilities\n",
    "pred_tensor = tf.Variable(np.expand_dims((pred*.9)+.0001,0))"
   ]
  },
  {
   "cell_type": "code",
   "execution_count": 11,
   "id": "3d08f11f",
   "metadata": {},
   "outputs": [
    {
     "name": "stdout",
     "output_type": "stream",
     "text": [
      "Dice component:\n",
      "tf.Tensor(0.741472, shape=(), dtype=float32)\n",
      "Spatially Weighted CE Component:\n",
      "tf.Tensor(0.0043353285, shape=(), dtype=float32)\n",
      "Total Loss:\n"
     ]
    },
    {
     "data": {
      "text/plain": [
       "<tf.Tensor: shape=(), dtype=float32, numpy=0.25896153>"
      ]
     },
     "execution_count": 11,
     "metadata": {},
     "output_type": "execute_result"
    }
   ],
   "source": [
    "spatial_regularization_loss(dm_tensor,pred_tensor)\n"
   ]
  },
  {
   "cell_type": "code",
   "execution_count": 12,
   "id": "691e965e",
   "metadata": {},
   "outputs": [
    {
     "data": {
      "text/plain": [
       "0.8277974088175516"
      ]
     },
     "execution_count": 12,
     "metadata": {},
     "output_type": "execute_result"
    }
   ],
   "source": [
    "smoothedDice(tf.cast(dm_tensor>1,tf.float32),tf.cast(pred_tensor>.5,tf.float32))"
   ]
  },
  {
   "cell_type": "code",
   "execution_count": null,
   "id": "b11d3700",
   "metadata": {},
   "outputs": [],
   "source": []
  }
 ],
 "metadata": {
  "kernelspec": {
   "display_name": "Python 3 (ipykernel)",
   "language": "python",
   "name": "python3"
  },
  "language_info": {
   "codemirror_mode": {
    "name": "ipython",
    "version": 3
   },
   "file_extension": ".py",
   "mimetype": "text/x-python",
   "name": "python",
   "nbconvert_exporter": "python",
   "pygments_lexer": "ipython3",
   "version": "3.9.13"
  }
 },
 "nbformat": 4,
 "nbformat_minor": 5
}
